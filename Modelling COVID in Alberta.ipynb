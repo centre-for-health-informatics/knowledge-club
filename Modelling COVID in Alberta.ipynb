{
 "cells": [
  {
   "cell_type": "markdown",
   "metadata": {},
   "source": [
    " "
   ]
  },
  {
   "cell_type": "markdown",
   "metadata": {},
   "source": [
    "<font size = \"6\">The Spread of Coronavirus in Alberta: A Machine Learning Story</font>"
   ]
  },
  {
   "cell_type": "markdown",
   "metadata": {},
   "source": [
    "\n"
   ]
  },
  {
   "cell_type": "markdown",
   "metadata": {},
   "source": [
    "In this notebook:\n",
    "\n",
    "<font size = \"5\">Numbers! Python! SVM! Graphs! Action!</font>"
   ]
  },
  {
   "cell_type": "markdown",
   "metadata": {},
   "source": [
    "<b><font size = \"5\">Question of the day: Can the spread of COVID 19 in Alberta be modelled and future trends predicted using current data? And can it be simple enough that even I can do it?</b></font>"
   ]
  },
  {
   "cell_type": "markdown",
   "metadata": {},
   "source": [
    "<font size = \"4\">First, a brief introduction into Machine Learning:\n",
    "\n",
    "Machine Learning: data -> algorithm -> learning -> learned algorithm\n",
    "\n",
    "Then: learned algorithm -> prediction, knowing only original data\n",
    "</font>\n",
    "\n",
    "<font size = \"5\">Today, we're gonna give algorithm the new cases per day in Alberta since all of this started, and see if it can tell us what the future holds!</font>"
   ]
  },
  {
   "cell_type": "markdown",
   "metadata": {},
   "source": [
    " "
   ]
  },
  {
   "cell_type": "markdown",
   "metadata": {},
   "source": [
    "\n",
    "<font size = \"7\">Let's Rumble!</font>\n"
   ]
  },
  {
   "cell_type": "markdown",
   "metadata": {},
   "source": [
    " "
   ]
  },
  {
   "cell_type": "markdown",
   "metadata": {},
   "source": [
    "Credit goes to a live session from Simplilearn, an education company that collaborates with Purdue University and IBM. https://www.youtube.com/watch?v=sHWKN5dakPw\n",
    "\n",
    "Dataset is the Novel Coronavirus Dataset from Kaggle, adapted from JHU: https://www.kaggle.com/sudalairajkumar/novel-corona-virus-2019-dataset"
   ]
  },
  {
   "cell_type": "code",
   "execution_count": 1,
   "metadata": {},
   "outputs": [],
   "source": [
    "import pandas as pd\n",
    "import numpy as np\n",
    "import matplotlib.pyplot as plt\n",
    "import datetime"
   ]
  },
  {
   "cell_type": "markdown",
   "metadata": {},
   "source": [
    "![title](surprisetool.jpg)"
   ]
  },
  {
   "cell_type": "markdown",
   "metadata": {},
   "source": [
    "<font size = \"5\">Prepare the data. Make sure it is clean. Pretty. Workable. Well-seasoned.</font>"
   ]
  },
  {
   "cell_type": "code",
   "execution_count": 2,
   "metadata": {},
   "outputs": [],
   "source": [
    "df = pd.read_csv('time_series_covid_19_confirmed.csv') #read in the csv"
   ]
  },
  {
   "cell_type": "code",
   "execution_count": 3,
   "metadata": {},
   "outputs": [
    {
     "data": {
      "text/html": [
       "<div>\n",
       "<style scoped>\n",
       "    .dataframe tbody tr th:only-of-type {\n",
       "        vertical-align: middle;\n",
       "    }\n",
       "\n",
       "    .dataframe tbody tr th {\n",
       "        vertical-align: top;\n",
       "    }\n",
       "\n",
       "    .dataframe thead th {\n",
       "        text-align: right;\n",
       "    }\n",
       "</style>\n",
       "<table border=\"1\" class=\"dataframe\">\n",
       "  <thead>\n",
       "    <tr style=\"text-align: right;\">\n",
       "      <th></th>\n",
       "      <th>1/22/20</th>\n",
       "      <th>1/23/20</th>\n",
       "      <th>1/24/20</th>\n",
       "      <th>1/25/20</th>\n",
       "      <th>1/26/20</th>\n",
       "      <th>1/27/20</th>\n",
       "      <th>1/28/20</th>\n",
       "      <th>1/29/20</th>\n",
       "      <th>1/30/20</th>\n",
       "      <th>1/31/20</th>\n",
       "      <th>...</th>\n",
       "      <th>`4/7/20</th>\n",
       "      <th>`4/8/20</th>\n",
       "      <th>`4/9/20</th>\n",
       "      <th>`4/10/20</th>\n",
       "      <th>`4/11/20</th>\n",
       "      <th>`4/12/20</th>\n",
       "      <th>4/13/20</th>\n",
       "      <th>4/14/20</th>\n",
       "      <th>4/15/20</th>\n",
       "      <th>4/16/20</th>\n",
       "    </tr>\n",
       "    <tr>\n",
       "      <th>Province/State</th>\n",
       "      <th></th>\n",
       "      <th></th>\n",
       "      <th></th>\n",
       "      <th></th>\n",
       "      <th></th>\n",
       "      <th></th>\n",
       "      <th></th>\n",
       "      <th></th>\n",
       "      <th></th>\n",
       "      <th></th>\n",
       "      <th></th>\n",
       "      <th></th>\n",
       "      <th></th>\n",
       "      <th></th>\n",
       "      <th></th>\n",
       "      <th></th>\n",
       "      <th></th>\n",
       "      <th></th>\n",
       "      <th></th>\n",
       "      <th></th>\n",
       "      <th></th>\n",
       "    </tr>\n",
       "  </thead>\n",
       "  <tbody>\n",
       "    <tr>\n",
       "      <th>Alberta</th>\n",
       "      <td>0</td>\n",
       "      <td>0</td>\n",
       "      <td>0</td>\n",
       "      <td>0</td>\n",
       "      <td>0</td>\n",
       "      <td>0</td>\n",
       "      <td>0</td>\n",
       "      <td>0</td>\n",
       "      <td>0</td>\n",
       "      <td>0</td>\n",
       "      <td>...</td>\n",
       "      <td>1373</td>\n",
       "      <td>1373</td>\n",
       "      <td>1423</td>\n",
       "      <td>1451</td>\n",
       "      <td>1567</td>\n",
       "      <td>1567</td>\n",
       "      <td>1732</td>\n",
       "      <td>1870</td>\n",
       "      <td>1870</td>\n",
       "      <td>1996</td>\n",
       "    </tr>\n",
       "    <tr>\n",
       "      <th>British Columbia</th>\n",
       "      <td>0</td>\n",
       "      <td>0</td>\n",
       "      <td>0</td>\n",
       "      <td>0</td>\n",
       "      <td>0</td>\n",
       "      <td>0</td>\n",
       "      <td>1</td>\n",
       "      <td>1</td>\n",
       "      <td>1</td>\n",
       "      <td>1</td>\n",
       "      <td>...</td>\n",
       "      <td>1266</td>\n",
       "      <td>1291</td>\n",
       "      <td>1336</td>\n",
       "      <td>1370</td>\n",
       "      <td>1445</td>\n",
       "      <td>1445</td>\n",
       "      <td>1490</td>\n",
       "      <td>1490</td>\n",
       "      <td>1517</td>\n",
       "      <td>1561</td>\n",
       "    </tr>\n",
       "    <tr>\n",
       "      <th>Manitoba</th>\n",
       "      <td>0</td>\n",
       "      <td>0</td>\n",
       "      <td>0</td>\n",
       "      <td>0</td>\n",
       "      <td>0</td>\n",
       "      <td>0</td>\n",
       "      <td>0</td>\n",
       "      <td>0</td>\n",
       "      <td>0</td>\n",
       "      <td>0</td>\n",
       "      <td>...</td>\n",
       "      <td>217</td>\n",
       "      <td>217</td>\n",
       "      <td>221</td>\n",
       "      <td>230</td>\n",
       "      <td>243</td>\n",
       "      <td>242</td>\n",
       "      <td>246</td>\n",
       "      <td>246</td>\n",
       "      <td>246</td>\n",
       "      <td>250</td>\n",
       "    </tr>\n",
       "    <tr>\n",
       "      <th>New Brunswick</th>\n",
       "      <td>0</td>\n",
       "      <td>0</td>\n",
       "      <td>0</td>\n",
       "      <td>0</td>\n",
       "      <td>0</td>\n",
       "      <td>0</td>\n",
       "      <td>0</td>\n",
       "      <td>0</td>\n",
       "      <td>0</td>\n",
       "      <td>0</td>\n",
       "      <td>...</td>\n",
       "      <td>105</td>\n",
       "      <td>105</td>\n",
       "      <td>108</td>\n",
       "      <td>112</td>\n",
       "      <td>112</td>\n",
       "      <td>114</td>\n",
       "      <td>116</td>\n",
       "      <td>116</td>\n",
       "      <td>117</td>\n",
       "      <td>117</td>\n",
       "    </tr>\n",
       "    <tr>\n",
       "      <th>Newfoundland and Labrador</th>\n",
       "      <td>0</td>\n",
       "      <td>0</td>\n",
       "      <td>0</td>\n",
       "      <td>0</td>\n",
       "      <td>0</td>\n",
       "      <td>0</td>\n",
       "      <td>0</td>\n",
       "      <td>0</td>\n",
       "      <td>0</td>\n",
       "      <td>0</td>\n",
       "      <td>...</td>\n",
       "      <td>228</td>\n",
       "      <td>228</td>\n",
       "      <td>232</td>\n",
       "      <td>239</td>\n",
       "      <td>241</td>\n",
       "      <td>242</td>\n",
       "      <td>244</td>\n",
       "      <td>244</td>\n",
       "      <td>247</td>\n",
       "      <td>252</td>\n",
       "    </tr>\n",
       "    <tr>\n",
       "      <th>Nova Scotia</th>\n",
       "      <td>0</td>\n",
       "      <td>0</td>\n",
       "      <td>0</td>\n",
       "      <td>0</td>\n",
       "      <td>0</td>\n",
       "      <td>0</td>\n",
       "      <td>0</td>\n",
       "      <td>0</td>\n",
       "      <td>0</td>\n",
       "      <td>0</td>\n",
       "      <td>...</td>\n",
       "      <td>310</td>\n",
       "      <td>310</td>\n",
       "      <td>342</td>\n",
       "      <td>407</td>\n",
       "      <td>428</td>\n",
       "      <td>445</td>\n",
       "      <td>474</td>\n",
       "      <td>517</td>\n",
       "      <td>549</td>\n",
       "      <td>579</td>\n",
       "    </tr>\n",
       "    <tr>\n",
       "      <th>Ontario</th>\n",
       "      <td>0</td>\n",
       "      <td>0</td>\n",
       "      <td>0</td>\n",
       "      <td>0</td>\n",
       "      <td>1</td>\n",
       "      <td>1</td>\n",
       "      <td>1</td>\n",
       "      <td>1</td>\n",
       "      <td>1</td>\n",
       "      <td>3</td>\n",
       "      <td>...</td>\n",
       "      <td>4726</td>\n",
       "      <td>5276</td>\n",
       "      <td>5759</td>\n",
       "      <td>6237</td>\n",
       "      <td>6648</td>\n",
       "      <td>7049</td>\n",
       "      <td>7470</td>\n",
       "      <td>7953</td>\n",
       "      <td>8447</td>\n",
       "      <td>9840</td>\n",
       "    </tr>\n",
       "    <tr>\n",
       "      <th>Prince Edward Island</th>\n",
       "      <td>0</td>\n",
       "      <td>0</td>\n",
       "      <td>0</td>\n",
       "      <td>0</td>\n",
       "      <td>0</td>\n",
       "      <td>0</td>\n",
       "      <td>0</td>\n",
       "      <td>0</td>\n",
       "      <td>0</td>\n",
       "      <td>0</td>\n",
       "      <td>...</td>\n",
       "      <td>22</td>\n",
       "      <td>25</td>\n",
       "      <td>25</td>\n",
       "      <td>25</td>\n",
       "      <td>25</td>\n",
       "      <td>25</td>\n",
       "      <td>25</td>\n",
       "      <td>25</td>\n",
       "      <td>26</td>\n",
       "      <td>26</td>\n",
       "    </tr>\n",
       "    <tr>\n",
       "      <th>Quebec</th>\n",
       "      <td>0</td>\n",
       "      <td>0</td>\n",
       "      <td>0</td>\n",
       "      <td>0</td>\n",
       "      <td>0</td>\n",
       "      <td>0</td>\n",
       "      <td>0</td>\n",
       "      <td>0</td>\n",
       "      <td>0</td>\n",
       "      <td>0</td>\n",
       "      <td>...</td>\n",
       "      <td>9340</td>\n",
       "      <td>10031</td>\n",
       "      <td>10912</td>\n",
       "      <td>11677</td>\n",
       "      <td>12292</td>\n",
       "      <td>12846</td>\n",
       "      <td>13557</td>\n",
       "      <td>14248</td>\n",
       "      <td>14860</td>\n",
       "      <td>15857</td>\n",
       "    </tr>\n",
       "    <tr>\n",
       "      <th>Saskatchewan</th>\n",
       "      <td>0</td>\n",
       "      <td>0</td>\n",
       "      <td>0</td>\n",
       "      <td>0</td>\n",
       "      <td>0</td>\n",
       "      <td>0</td>\n",
       "      <td>0</td>\n",
       "      <td>0</td>\n",
       "      <td>0</td>\n",
       "      <td>0</td>\n",
       "      <td>...</td>\n",
       "      <td>260</td>\n",
       "      <td>260</td>\n",
       "      <td>271</td>\n",
       "      <td>285</td>\n",
       "      <td>289</td>\n",
       "      <td>298</td>\n",
       "      <td>300</td>\n",
       "      <td>300</td>\n",
       "      <td>304</td>\n",
       "      <td>305</td>\n",
       "    </tr>\n",
       "    <tr>\n",
       "      <th>Northwest Territories</th>\n",
       "      <td>0</td>\n",
       "      <td>0</td>\n",
       "      <td>0</td>\n",
       "      <td>0</td>\n",
       "      <td>0</td>\n",
       "      <td>0</td>\n",
       "      <td>0</td>\n",
       "      <td>0</td>\n",
       "      <td>0</td>\n",
       "      <td>0</td>\n",
       "      <td>...</td>\n",
       "      <td>5</td>\n",
       "      <td>5</td>\n",
       "      <td>5</td>\n",
       "      <td>5</td>\n",
       "      <td>5</td>\n",
       "      <td>5</td>\n",
       "      <td>5</td>\n",
       "      <td>5</td>\n",
       "      <td>5</td>\n",
       "      <td>5</td>\n",
       "    </tr>\n",
       "    <tr>\n",
       "      <th>Yukon</th>\n",
       "      <td>0</td>\n",
       "      <td>0</td>\n",
       "      <td>0</td>\n",
       "      <td>0</td>\n",
       "      <td>0</td>\n",
       "      <td>0</td>\n",
       "      <td>0</td>\n",
       "      <td>0</td>\n",
       "      <td>0</td>\n",
       "      <td>0</td>\n",
       "      <td>...</td>\n",
       "      <td>7</td>\n",
       "      <td>7</td>\n",
       "      <td>7</td>\n",
       "      <td>8</td>\n",
       "      <td>8</td>\n",
       "      <td>8</td>\n",
       "      <td>8</td>\n",
       "      <td>8</td>\n",
       "      <td>8</td>\n",
       "      <td>8</td>\n",
       "    </tr>\n",
       "  </tbody>\n",
       "</table>\n",
       "<p>12 rows × 86 columns</p>\n",
       "</div>"
      ],
      "text/plain": [
       "                           1/22/20  1/23/20  1/24/20  1/25/20  1/26/20  \\\n",
       "Province/State                                                           \n",
       "Alberta                          0        0        0        0        0   \n",
       "British Columbia                 0        0        0        0        0   \n",
       "Manitoba                         0        0        0        0        0   \n",
       "New Brunswick                    0        0        0        0        0   \n",
       "Newfoundland and Labrador        0        0        0        0        0   \n",
       "Nova Scotia                      0        0        0        0        0   \n",
       "Ontario                          0        0        0        0        1   \n",
       "Prince Edward Island             0        0        0        0        0   \n",
       "Quebec                           0        0        0        0        0   \n",
       "Saskatchewan                     0        0        0        0        0   \n",
       "Northwest Territories            0        0        0        0        0   \n",
       "Yukon                            0        0        0        0        0   \n",
       "\n",
       "                           1/27/20  1/28/20  1/29/20  1/30/20  1/31/20  ...  \\\n",
       "Province/State                                                          ...   \n",
       "Alberta                          0        0        0        0        0  ...   \n",
       "British Columbia                 0        1        1        1        1  ...   \n",
       "Manitoba                         0        0        0        0        0  ...   \n",
       "New Brunswick                    0        0        0        0        0  ...   \n",
       "Newfoundland and Labrador        0        0        0        0        0  ...   \n",
       "Nova Scotia                      0        0        0        0        0  ...   \n",
       "Ontario                          1        1        1        1        3  ...   \n",
       "Prince Edward Island             0        0        0        0        0  ...   \n",
       "Quebec                           0        0        0        0        0  ...   \n",
       "Saskatchewan                     0        0        0        0        0  ...   \n",
       "Northwest Territories            0        0        0        0        0  ...   \n",
       "Yukon                            0        0        0        0        0  ...   \n",
       "\n",
       "                           `4/7/20  `4/8/20  `4/9/20  `4/10/20  `4/11/20  \\\n",
       "Province/State                                                             \n",
       "Alberta                       1373     1373     1423      1451      1567   \n",
       "British Columbia              1266     1291     1336      1370      1445   \n",
       "Manitoba                       217      217      221       230       243   \n",
       "New Brunswick                  105      105      108       112       112   \n",
       "Newfoundland and Labrador      228      228      232       239       241   \n",
       "Nova Scotia                    310      310      342       407       428   \n",
       "Ontario                       4726     5276     5759      6237      6648   \n",
       "Prince Edward Island            22       25       25        25        25   \n",
       "Quebec                        9340    10031    10912     11677     12292   \n",
       "Saskatchewan                   260      260      271       285       289   \n",
       "Northwest Territories            5        5        5         5         5   \n",
       "Yukon                            7        7        7         8         8   \n",
       "\n",
       "                           `4/12/20  4/13/20  4/14/20  4/15/20  4/16/20  \n",
       "Province/State                                                           \n",
       "Alberta                        1567     1732     1870     1870     1996  \n",
       "British Columbia               1445     1490     1490     1517     1561  \n",
       "Manitoba                        242      246      246      246      250  \n",
       "New Brunswick                   114      116      116      117      117  \n",
       "Newfoundland and Labrador       242      244      244      247      252  \n",
       "Nova Scotia                     445      474      517      549      579  \n",
       "Ontario                        7049     7470     7953     8447     9840  \n",
       "Prince Edward Island             25       25       25       26       26  \n",
       "Quebec                        12846    13557    14248    14860    15857  \n",
       "Saskatchewan                    298      300      300      304      305  \n",
       "Northwest Territories             5        5        5        5        5  \n",
       "Yukon                             8        8        8        8        8  \n",
       "\n",
       "[12 rows x 86 columns]"
      ]
     },
     "execution_count": 3,
     "metadata": {},
     "output_type": "execute_result"
    }
   ],
   "source": [
    "df.set_index('Province/State') "
   ]
  },
  {
   "cell_type": "code",
   "execution_count": 4,
   "metadata": {},
   "outputs": [],
   "source": [
    "#cleaning to make it easier for pandas to work with\n",
    "df = df.transpose()\n",
    "df.columns = df.loc['Province/State']\n",
    "df = df.drop(['Province/State'])"
   ]
  },
  {
   "cell_type": "code",
   "execution_count": 5,
   "metadata": {},
   "outputs": [
    {
     "data": {
      "text/html": [
       "<div>\n",
       "<style scoped>\n",
       "    .dataframe tbody tr th:only-of-type {\n",
       "        vertical-align: middle;\n",
       "    }\n",
       "\n",
       "    .dataframe tbody tr th {\n",
       "        vertical-align: top;\n",
       "    }\n",
       "\n",
       "    .dataframe thead th {\n",
       "        text-align: right;\n",
       "    }\n",
       "</style>\n",
       "<table border=\"1\" class=\"dataframe\">\n",
       "  <thead>\n",
       "    <tr style=\"text-align: right;\">\n",
       "      <th>Province/State</th>\n",
       "      <th>Alberta</th>\n",
       "      <th>British Columbia</th>\n",
       "      <th>Manitoba</th>\n",
       "      <th>New Brunswick</th>\n",
       "      <th>Newfoundland and Labrador</th>\n",
       "      <th>Nova Scotia</th>\n",
       "      <th>Ontario</th>\n",
       "      <th>Prince Edward Island</th>\n",
       "      <th>Quebec</th>\n",
       "      <th>Saskatchewan</th>\n",
       "      <th>Northwest Territories</th>\n",
       "      <th>Yukon</th>\n",
       "    </tr>\n",
       "  </thead>\n",
       "  <tbody>\n",
       "    <tr>\n",
       "      <th>1/22/20</th>\n",
       "      <td>0</td>\n",
       "      <td>0</td>\n",
       "      <td>0</td>\n",
       "      <td>0</td>\n",
       "      <td>0</td>\n",
       "      <td>0</td>\n",
       "      <td>0</td>\n",
       "      <td>0</td>\n",
       "      <td>0</td>\n",
       "      <td>0</td>\n",
       "      <td>0</td>\n",
       "      <td>0</td>\n",
       "    </tr>\n",
       "    <tr>\n",
       "      <th>1/23/20</th>\n",
       "      <td>0</td>\n",
       "      <td>0</td>\n",
       "      <td>0</td>\n",
       "      <td>0</td>\n",
       "      <td>0</td>\n",
       "      <td>0</td>\n",
       "      <td>0</td>\n",
       "      <td>0</td>\n",
       "      <td>0</td>\n",
       "      <td>0</td>\n",
       "      <td>0</td>\n",
       "      <td>0</td>\n",
       "    </tr>\n",
       "    <tr>\n",
       "      <th>1/24/20</th>\n",
       "      <td>0</td>\n",
       "      <td>0</td>\n",
       "      <td>0</td>\n",
       "      <td>0</td>\n",
       "      <td>0</td>\n",
       "      <td>0</td>\n",
       "      <td>0</td>\n",
       "      <td>0</td>\n",
       "      <td>0</td>\n",
       "      <td>0</td>\n",
       "      <td>0</td>\n",
       "      <td>0</td>\n",
       "    </tr>\n",
       "    <tr>\n",
       "      <th>1/25/20</th>\n",
       "      <td>0</td>\n",
       "      <td>0</td>\n",
       "      <td>0</td>\n",
       "      <td>0</td>\n",
       "      <td>0</td>\n",
       "      <td>0</td>\n",
       "      <td>0</td>\n",
       "      <td>0</td>\n",
       "      <td>0</td>\n",
       "      <td>0</td>\n",
       "      <td>0</td>\n",
       "      <td>0</td>\n",
       "    </tr>\n",
       "    <tr>\n",
       "      <th>1/26/20</th>\n",
       "      <td>0</td>\n",
       "      <td>0</td>\n",
       "      <td>0</td>\n",
       "      <td>0</td>\n",
       "      <td>0</td>\n",
       "      <td>0</td>\n",
       "      <td>1</td>\n",
       "      <td>0</td>\n",
       "      <td>0</td>\n",
       "      <td>0</td>\n",
       "      <td>0</td>\n",
       "      <td>0</td>\n",
       "    </tr>\n",
       "    <tr>\n",
       "      <th>...</th>\n",
       "      <td>...</td>\n",
       "      <td>...</td>\n",
       "      <td>...</td>\n",
       "      <td>...</td>\n",
       "      <td>...</td>\n",
       "      <td>...</td>\n",
       "      <td>...</td>\n",
       "      <td>...</td>\n",
       "      <td>...</td>\n",
       "      <td>...</td>\n",
       "      <td>...</td>\n",
       "      <td>...</td>\n",
       "    </tr>\n",
       "    <tr>\n",
       "      <th>`4/12/20</th>\n",
       "      <td>1567</td>\n",
       "      <td>1445</td>\n",
       "      <td>242</td>\n",
       "      <td>114</td>\n",
       "      <td>242</td>\n",
       "      <td>445</td>\n",
       "      <td>7049</td>\n",
       "      <td>25</td>\n",
       "      <td>12846</td>\n",
       "      <td>298</td>\n",
       "      <td>5</td>\n",
       "      <td>8</td>\n",
       "    </tr>\n",
       "    <tr>\n",
       "      <th>4/13/20</th>\n",
       "      <td>1732</td>\n",
       "      <td>1490</td>\n",
       "      <td>246</td>\n",
       "      <td>116</td>\n",
       "      <td>244</td>\n",
       "      <td>474</td>\n",
       "      <td>7470</td>\n",
       "      <td>25</td>\n",
       "      <td>13557</td>\n",
       "      <td>300</td>\n",
       "      <td>5</td>\n",
       "      <td>8</td>\n",
       "    </tr>\n",
       "    <tr>\n",
       "      <th>4/14/20</th>\n",
       "      <td>1870</td>\n",
       "      <td>1490</td>\n",
       "      <td>246</td>\n",
       "      <td>116</td>\n",
       "      <td>244</td>\n",
       "      <td>517</td>\n",
       "      <td>7953</td>\n",
       "      <td>25</td>\n",
       "      <td>14248</td>\n",
       "      <td>300</td>\n",
       "      <td>5</td>\n",
       "      <td>8</td>\n",
       "    </tr>\n",
       "    <tr>\n",
       "      <th>4/15/20</th>\n",
       "      <td>1870</td>\n",
       "      <td>1517</td>\n",
       "      <td>246</td>\n",
       "      <td>117</td>\n",
       "      <td>247</td>\n",
       "      <td>549</td>\n",
       "      <td>8447</td>\n",
       "      <td>26</td>\n",
       "      <td>14860</td>\n",
       "      <td>304</td>\n",
       "      <td>5</td>\n",
       "      <td>8</td>\n",
       "    </tr>\n",
       "    <tr>\n",
       "      <th>4/16/20</th>\n",
       "      <td>1996</td>\n",
       "      <td>1561</td>\n",
       "      <td>250</td>\n",
       "      <td>117</td>\n",
       "      <td>252</td>\n",
       "      <td>579</td>\n",
       "      <td>9840</td>\n",
       "      <td>26</td>\n",
       "      <td>15857</td>\n",
       "      <td>305</td>\n",
       "      <td>5</td>\n",
       "      <td>8</td>\n",
       "    </tr>\n",
       "  </tbody>\n",
       "</table>\n",
       "<p>86 rows × 12 columns</p>\n",
       "</div>"
      ],
      "text/plain": [
       "Province/State Alberta British Columbia Manitoba New Brunswick  \\\n",
       "1/22/20              0                0        0             0   \n",
       "1/23/20              0                0        0             0   \n",
       "1/24/20              0                0        0             0   \n",
       "1/25/20              0                0        0             0   \n",
       "1/26/20              0                0        0             0   \n",
       "...                ...              ...      ...           ...   \n",
       "`4/12/20          1567             1445      242           114   \n",
       "4/13/20           1732             1490      246           116   \n",
       "4/14/20           1870             1490      246           116   \n",
       "4/15/20           1870             1517      246           117   \n",
       "4/16/20           1996             1561      250           117   \n",
       "\n",
       "Province/State Newfoundland and Labrador Nova Scotia Ontario  \\\n",
       "1/22/20                                0           0       0   \n",
       "1/23/20                                0           0       0   \n",
       "1/24/20                                0           0       0   \n",
       "1/25/20                                0           0       0   \n",
       "1/26/20                                0           0       1   \n",
       "...                                  ...         ...     ...   \n",
       "`4/12/20                             242         445    7049   \n",
       "4/13/20                              244         474    7470   \n",
       "4/14/20                              244         517    7953   \n",
       "4/15/20                              247         549    8447   \n",
       "4/16/20                              252         579    9840   \n",
       "\n",
       "Province/State Prince Edward Island Quebec Saskatchewan Northwest Territories  \\\n",
       "1/22/20                           0      0            0                     0   \n",
       "1/23/20                           0      0            0                     0   \n",
       "1/24/20                           0      0            0                     0   \n",
       "1/25/20                           0      0            0                     0   \n",
       "1/26/20                           0      0            0                     0   \n",
       "...                             ...    ...          ...                   ...   \n",
       "`4/12/20                         25  12846          298                     5   \n",
       "4/13/20                          25  13557          300                     5   \n",
       "4/14/20                          25  14248          300                     5   \n",
       "4/15/20                          26  14860          304                     5   \n",
       "4/16/20                          26  15857          305                     5   \n",
       "\n",
       "Province/State Yukon  \n",
       "1/22/20            0  \n",
       "1/23/20            0  \n",
       "1/24/20            0  \n",
       "1/25/20            0  \n",
       "1/26/20            0  \n",
       "...              ...  \n",
       "`4/12/20           8  \n",
       "4/13/20            8  \n",
       "4/14/20            8  \n",
       "4/15/20            8  \n",
       "4/16/20            8  \n",
       "\n",
       "[86 rows x 12 columns]"
      ]
     },
     "execution_count": 5,
     "metadata": {},
     "output_type": "execute_result"
    }
   ],
   "source": [
    "df"
   ]
  },
  {
   "cell_type": "markdown",
   "metadata": {},
   "source": [
    "<font size = \"5\">We took good care of the data, so now we can look at it!</font>"
   ]
  },
  {
   "cell_type": "code",
   "execution_count": 6,
   "metadata": {},
   "outputs": [
    {
     "data": {
      "text/plain": [
       "<matplotlib.axes._subplots.AxesSubplot at 0x1fddc339580>"
      ]
     },
     "execution_count": 6,
     "metadata": {},
     "output_type": "execute_result"
    },
    {
     "data": {
      "image/png": "[encoded data removed]",
      "text/plain": [
       "<Figure size 432x288 with 1 Axes>"
      ]
     },
     "metadata": {
      "needs_background": "light"
     },
     "output_type": "display_data"
    }
   ],
   "source": [
    "df.plot(y = 'Alberta') #Plots out a graph, similar to chi-csm.ca"
   ]
  },
  {
   "cell_type": "code",
   "execution_count": 7,
   "metadata": {},
   "outputs": [],
   "source": [
    "#some more cleaning\n",
    "di = list(df.index)\n",
    "\n",
    "di2 = [i.replace('/20','').strip('`') for i in di]\n",
    "df = df.rename(index = dict(zip(di,di2)))"
   ]
  },
  {
   "cell_type": "code",
   "execution_count": 8,
   "metadata": {
    "scrolled": true
   },
   "outputs": [
    {
     "data": {
      "image/png": "[encoded data removed]",
      "text/plain": [
       "<Figure size 1080x360 with 1 Axes>"
      ]
     },
     "metadata": {
      "needs_background": "light"
     },
     "output_type": "display_data"
    }
   ],
   "source": [
    "ax = df.plot(y=['Alberta', 'British Columbia'], figsize = (15,5), use_index = True)"
   ]
  },
  {
   "cell_type": "markdown",
   "metadata": {},
   "source": [
    "<font size = \"5\">I promised some Machine Learning, so we should probably get started!</font>"
   ]
  },
  {
   "cell_type": "code",
   "execution_count": 9,
   "metadata": {},
   "outputs": [],
   "source": [
    "#tweaking a few parameters to personalize the model to Alberta's cases\n",
    "dates = df.index\n",
    "\n",
    "zero_cases = []\n",
    "alberta_cases = []\n",
    "\n",
    "for i in df.index:\n",
    "    if df.loc[i, 'Alberta'] == 0:\n",
    "        zero_cases.append(i)\n",
    "    \n",
    "dates = dates.drop(zero_cases)\n",
    "\n",
    "for i in dates:\n",
    "    alberta_cases.append(df.loc[i, 'Alberta'])"
   ]
  },
  {
   "cell_type": "code",
   "execution_count": 10,
   "metadata": {},
   "outputs": [],
   "source": [
    "#put them into numpy arrays for the model\n",
    "days_since_first_case = np.array([i for i in range(len(dates))]).reshape(-1, 1)\n",
    "alberta_cases = np.array(alberta_cases).reshape(-1, 1)"
   ]
  },
  {
   "cell_type": "code",
   "execution_count": 11,
   "metadata": {
    "scrolled": false
   },
   "outputs": [],
   "source": [
    "#more probably redundant cleaning\n",
    "index = []\n",
    "for i in range(len(alberta_cases)):\n",
    "    if alberta_cases[i] == 0:\n",
    "        index.append(i)\n",
    "        \n",
    "alberta_cases = np.delete(alberta_cases, index)"
   ]
  },
  {
   "cell_type": "markdown",
   "metadata": {},
   "source": [
    "<font size = \"5\">Setting up a reasonable prediction. </font>"
   ]
  },
  {
   "cell_type": "code",
   "execution_count": 13,
   "metadata": {},
   "outputs": [],
   "source": [
    "days_in_future = 10\n",
    "\n",
    "future_forecast = np.array([i for i in range(len(dates)+days_in_future)]).reshape(-1, 1)\n",
    "adjusted_dates = future_forecast[:-10]"
   ]
  },
  {
   "cell_type": "code",
   "execution_count": 14,
   "metadata": {},
   "outputs": [],
   "source": [
    "#This is for later\n",
    "start = '3/6/2020'\n",
    "start_date = datetime.datetime.strptime(start, '%m/%d/%Y')\n",
    "future_forecast_dates = []\n",
    "for i in range(len(future_forecast)):\n",
    "    future_forecast_dates.append((start_date + datetime.timedelta(days=i)).strftime('%m/%d/%Y'))"
   ]
  },
  {
   "cell_type": "code",
   "execution_count": 15,
   "metadata": {},
   "outputs": [],
   "source": [
    "#more tools\n",
    "from sklearn.model_selection import RandomizedSearchCV, train_test_split\n",
    "from sklearn.svm import SVR\n",
    "from sklearn.metrics import mean_squared_error, mean_absolute_error"
   ]
  },
  {
   "cell_type": "code",
   "execution_count": 16,
   "metadata": {},
   "outputs": [],
   "source": [
    "#training from data #look into how to these are splitted\n",
    "x_train_confirmed, x_test_confirmed, y_train_confirmed, y_test_confirmed = train_test_split(days_since_first_case, alberta_cases, test_size=0.15, shuffle=False)"
   ]
  },
  {
   "cell_type": "markdown",
   "metadata": {},
   "source": [
    "<font size = \"5\">Support Vector Machine time!</font>"
   ]
  },
  {
   "cell_type": "code",
   "execution_count": 17,
   "metadata": {
    "scrolled": true
   },
   "outputs": [
    {
     "name": "stdout",
     "output_type": "stream",
     "text": [
      "Fitting 3 folds for each of 40 candidates, totalling 120 fits\n"
     ]
    },
    {
     "name": "stderr",
     "output_type": "stream",
     "text": [
      "[Parallel(n_jobs=-1)]: Using backend LokyBackend with 8 concurrent workers.\n",
      "[Parallel(n_jobs=-1)]: Done  34 tasks      | elapsed:    2.0s\n",
      "[Parallel(n_jobs=-1)]: Done 120 out of 120 | elapsed:   16.5s finished\n"
     ]
    },
    {
     "data": {
      "text/plain": [
       "RandomizedSearchCV(cv=3, error_score=nan,\n",
       "                   estimator=SVR(C=1.0, cache_size=200, coef0=0.0, degree=3,\n",
       "                                 epsilon=0.1, gamma='scale', kernel='rbf',\n",
       "                                 max_iter=-1, shrinking=True, tol=0.001,\n",
       "                                 verbose=False),\n",
       "                   iid='deprecated', n_iter=40, n_jobs=-1,\n",
       "                   param_distributions={'C': [0.01, 0.1, 1, 10],\n",
       "                                        'epsilon': [0.01, 0.1, 1],\n",
       "                                        'gamma': [0.01, 0.1, 1],\n",
       "                                        'kernel': ['poly', 'sigmoid', 'rbf'],\n",
       "                                        'shrinking': [True, False]},\n",
       "                   pre_dispatch='2*n_jobs', random_state=None, refit=True,\n",
       "                   return_train_score=True, scoring='neg_mean_squared_error',\n",
       "                   verbose=1)"
      ]
     },
     "execution_count": 17,
     "metadata": {},
     "output_type": "execute_result"
    }
   ],
   "source": [
    "kernel = ['poly', 'sigmoid', 'rbf'] #type of hyperplane\n",
    "c = [0.01, 0.1, 1, 10] #trade off between a smooth line and more accurate training points\n",
    "gamma = [0.01, 0.1, 1] #the influence of a single training point\n",
    "epsilon = [0.01, 0.1, 1] #how hard are errors penalized, and adjusted accordingly\n",
    "shrinking = [True, False] #ignore certain elements in order to speed up optimization\n",
    "svm_grid = {'kernel': kernel, 'C': c, 'gamma': gamma, 'epsilon': epsilon, 'shrinking':shrinking}\n",
    "\n",
    "svm = SVR()\n",
    "svm_search = RandomizedSearchCV(svm, svm_grid, scoring = 'neg_mean_squared_error', cv = 3, return_train_score = True, n_jobs = -1, n_iter = 40, verbose = 1)\n",
    "svm_search.fit(x_train_confirmed, y_train_confirmed.ravel())"
   ]
  },
  {
   "cell_type": "code",
   "execution_count": 18,
   "metadata": {},
   "outputs": [
    {
     "data": {
      "text/plain": [
       "{'shrinking': False, 'kernel': 'poly', 'gamma': 0.01, 'epsilon': 0.01, 'C': 1}"
      ]
     },
     "execution_count": 18,
     "metadata": {},
     "output_type": "execute_result"
    }
   ],
   "source": [
    "#parameter tuning\n",
    "svm_search.best_params_"
   ]
  },
  {
   "cell_type": "code",
   "execution_count": 19,
   "metadata": {},
   "outputs": [],
   "source": [
    "svm_confirmed = svm_search.best_estimator_\n",
    "svm_pred = svm_confirmed.predict(future_forecast)"
   ]
  },
  {
   "cell_type": "code",
   "execution_count": 20,
   "metadata": {},
   "outputs": [
    {
     "data": {
      "text/plain": [
       "SVR(C=1, cache_size=200, coef0=0.0, degree=3, epsilon=0.01, gamma=0.01,\n",
       "    kernel='poly', max_iter=-1, shrinking=False, tol=0.001, verbose=False)"
      ]
     },
     "execution_count": 20,
     "metadata": {},
     "output_type": "execute_result"
    }
   ],
   "source": [
    "svm_confirmed"
   ]
  },
  {
   "cell_type": "code",
   "execution_count": 21,
   "metadata": {
    "scrolled": true
   },
   "outputs": [
    {
     "data": {
      "text/plain": [
       "array([  25.37345214,   25.41490848,   25.70510284,   26.49277326,\n",
       "         28.02665775,   30.55549435,   34.32802108,   39.59297596,\n",
       "         46.59909703,   55.59512231,   66.82978982,   80.5518376 ,\n",
       "         97.01000366,  116.45302603,  139.12964275,  165.28859183,\n",
       "        195.1786113 ,  229.04843918,  267.14681352,  309.72247232,\n",
       "        357.02415362,  409.30059544,  466.80053581,  529.77271275,\n",
       "        598.4658643 ,  673.12872847,  754.01004329,  841.35854679,\n",
       "        935.422977  , 1036.45207194, 1144.69456963, 1260.39920811,\n",
       "       1383.8147254 , 1515.18985952, 1654.77334851, 1802.81393038,\n",
       "       1959.56034317, 2125.2613249 , 2300.16561359, 2484.52194727,\n",
       "       2678.57906398, 2882.58570173, 3096.79059854, 3321.44249246,\n",
       "       3556.7901215 , 3803.08222368, 4060.56753705, 4329.49479961,\n",
       "       4610.1127494 , 4902.67012444, 5207.41566276, 5524.59810239])"
      ]
     },
     "execution_count": 21,
     "metadata": {},
     "output_type": "execute_result"
    }
   ],
   "source": [
    "#the predicted data points from the SVM model!\n",
    "svm_pred"
   ]
  },
  {
   "cell_type": "code",
   "execution_count": 22,
   "metadata": {},
   "outputs": [
    {
     "name": "stdout",
     "output_type": "stream",
     "text": [
      "MAE:  597.2125607166328\n",
      "MSE:  389973.7241245328\n"
     ]
    },
    {
     "data": {
      "image/png": "[encoded data removed]",
      "text/plain": [
       "<Figure size 432x288 with 1 Axes>"
      ]
     },
     "metadata": {
      "needs_background": "light"
     },
     "output_type": "display_data"
    }
   ],
   "source": [
    "#looking at mean error\n",
    "svm_test_pred = svm_confirmed.predict(x_test_confirmed)\n",
    "plt.plot(svm_test_pred, linestyle = 'dashed')\n",
    "plt.plot(y_test_confirmed)\n",
    "print('MAE: ', mean_absolute_error(svm_test_pred, y_test_confirmed))\n",
    "print('MSE: ', mean_squared_error(svm_test_pred, y_test_confirmed))"
   ]
  },
  {
   "cell_type": "markdown",
   "metadata": {},
   "source": [
    "<font size = \"5\">Let's see the results!</font>"
   ]
  },
  {
   "cell_type": "code",
   "execution_count": 23,
   "metadata": {},
   "outputs": [
    {
     "data": {
      "image/png": "[encoded data removed]",
      "text/plain": [
       "<Figure size 1440x864 with 1 Axes>"
      ]
     },
     "metadata": {
      "needs_background": "light"
     },
     "output_type": "display_data"
    }
   ],
   "source": [
    "plt.figure(figsize = (20, 12))\n",
    "plt.plot(adjusted_dates, alberta_cases)\n",
    "plt.title('Number of Coronavirus Cases in Alberta over Time', size = 30)\n",
    "plt.xlabel('Days Since 3/6/2020', size = 30)\n",
    "plt.ylabel('Number of Cases', size = 30)\n",
    "plt.xticks(size=15)\n",
    "plt.yticks(size=15)\n",
    "plt.show()"
   ]
  },
  {
   "cell_type": "code",
   "execution_count": 24,
   "metadata": {},
   "outputs": [
    {
     "data": {
      "image/png": "[encoded data removed]",
      "text/plain": [
       "<Figure size 1440x864 with 1 Axes>"
      ]
     },
     "metadata": {
      "needs_background": "light"
     },
     "output_type": "display_data"
    }
   ],
   "source": [
    "plt.figure(figsize = (20, 12))\n",
    "plt.plot(adjusted_dates, alberta_cases)\n",
    "plt.plot(future_forecast, svm_pred, linestyle = 'dashed', color = 'purple')\n",
    "plt.title('Number of Coronavirus Cases in Alberta over Time', size = 30)\n",
    "plt.xlabel('Days Since 3/6/2020', size = 30)\n",
    "plt.ylabel('Number of Cases', size = 30)\n",
    "plt.legend(['Confirmed Cases', 'SVM Predictions'])\n",
    "plt.xticks(size=15)\n",
    "plt.yticks(size=15)\n",
    "plt.show()"
   ]
  },
  {
   "cell_type": "markdown",
   "metadata": {},
   "source": [
    "<font size = \"5\">The results are in!</font>"
   ]
  },
  {
   "cell_type": "code",
   "execution_count": 25,
   "metadata": {},
   "outputs": [
    {
     "name": "stdout",
     "output_type": "stream",
     "text": [
      "SVM future predictions: \n"
     ]
    },
    {
     "data": {
      "text/plain": [
       "{('04/17/2020', 3096.790598544292),\n",
       " ('04/18/2020', 3321.442492459283),\n",
       " ('04/19/2020', 3556.790121497001),\n",
       " ('04/20/2020', 3803.0822236835634),\n",
       " ('04/21/2020', 4060.5675370450676),\n",
       " ('04/22/2020', 4329.494799607634),\n",
       " ('04/23/2020', 4610.112749397367),\n",
       " ('04/24/2020', 4902.670124440383),\n",
       " ('04/25/2020', 5207.415662762781),\n",
       " ('04/26/2020', 5524.59810239069)}"
      ]
     },
     "execution_count": 25,
     "metadata": {},
     "output_type": "execute_result"
    }
   ],
   "source": [
    "print('SVM future predictions: ')\n",
    "set(zip(future_forecast_dates[-10:], svm_pred[-10:]))"
   ]
  }
 ],
 "metadata": {
  "kernelspec": {
   "display_name": "Python 3",
   "language": "python",
   "name": "python3"
  },
  "language_info": {
   "codemirror_mode": {
    "name": "ipython",
    "version": 3
   },
   "file_extension": ".py",
   "mimetype": "text/x-python",
   "name": "python",
   "nbconvert_exporter": "python",
   "pygments_lexer": "ipython3",
   "version": "3.8.1"
  }
 },
 "nbformat": 4,
 "nbformat_minor": 4
}
