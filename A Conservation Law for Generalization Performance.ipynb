{
 "cells": [
  {
   "cell_type": "markdown",
   "metadata": {},
   "source": [
    "# The no-free-lunch theorem for supervised machine learning in action!"
   ]
  },
  {
   "attachments": {},
   "cell_type": "markdown",
   "metadata": {},
   "source": [
    "<img src=\"files/schaffer.jpeg\">"
   ]
  },
  {
   "cell_type": "markdown",
   "metadata": {},
   "source": [
    "## The magnum opus in this area is \"The Lack of a priori Distinctions Between Learning Algorithms\" by David H. Wolpert (1995). This paper is simpler."
   ]
  },
  {
   "cell_type": "markdown",
   "metadata": {},
   "source": [
    "# QUESTION: Can we have a learning algorithm that we know will perform well on ANY supervised classification task, without knowing anything about the task?"
   ]
  },
  {
   "cell_type": "markdown",
   "metadata": {},
   "source": [
    "## Central result: the \"law of conservation of generalization performance.\""
   ]
  },
  {
   "cell_type": "markdown",
   "metadata": {},
   "source": [
    "<img src=\"files/theorem.jpeg\">"
   ]
  },
  {
   "cell_type": "markdown",
   "metadata": {},
   "source": [
    "### - S -> \"learning situation\" (D, C, n)\n",
    "### - D -> sampling distribution for attribute vectors\n",
    "### - n -> number of samples in training set\n",
    "### - C -> function mapping attribute vectors to labels (or more generally distributions over labels)."
   ]
  },
  {
   "cell_type": "code",
   "execution_count": 1,
   "metadata": {},
   "outputs": [],
   "source": [
    "import pandas as pd\n",
    "import numpy as np\n",
    "import re"
   ]
  },
  {
   "cell_type": "markdown",
   "metadata": {},
   "source": [
    "## Specify the parameters. We are creating a binary classification problem with some number of binary features and a single binary target."
   ]
  },
  {
   "cell_type": "code",
   "execution_count": 2,
   "metadata": {},
   "outputs": [],
   "source": [
    "num_features = 3 # number of binary attributes\n",
    "n = 5 # number of training vectors to sample\n",
    "distribution = 'uniform'\n",
    "if distribution == 'uniform':\n",
    "    D = [1/(2**num_features) for x in range(2**num_features)]\n",
    "elif distribution == 'random':\n",
    "    D = np.random.rand(2**num_features)\n",
    "    D = D/sum(D)"
   ]
  },
  {
   "cell_type": "markdown",
   "metadata": {},
   "source": [
    "## Create the list of possible attribute vectors."
   ]
  },
  {
   "cell_type": "code",
   "execution_count": 3,
   "metadata": {},
   "outputs": [
    {
     "data": {
      "text/plain": [
       "{0: [0, 0, 0],\n",
       " 1: [0, 0, 1],\n",
       " 2: [0, 1, 0],\n",
       " 3: [0, 1, 1],\n",
       " 4: [1, 0, 0],\n",
       " 5: [1, 0, 1],\n",
       " 6: [1, 1, 0],\n",
       " 7: [1, 1, 1]}"
      ]
     },
     "execution_count": 3,
     "metadata": {},
     "output_type": "execute_result"
    }
   ],
   "source": [
    "A = {mn: [int(x) for x in bin(mn)[2:].zfill(num_features)] for mn in range(2**num_features)}\n",
    "A"
   ]
  },
  {
   "cell_type": "markdown",
   "metadata": {},
   "source": [
    "## Create the list of possible class vectors."
   ]
  },
  {
   "cell_type": "code",
   "execution_count": 4,
   "metadata": {},
   "outputs": [],
   "source": [
    "C = {mn: [int(x) for x in bin(mn)[2:].zfill(2**num_features)] for mn in range(2**len(A))}"
   ]
  },
  {
   "cell_type": "code",
   "execution_count": 5,
   "metadata": {},
   "outputs": [
    {
     "data": {
      "text/plain": [
       "{0: [0, 0, 0, 0, 0, 0, 0, 0],\n",
       " 1: [0, 0, 0, 0, 0, 0, 0, 1],\n",
       " 2: [0, 0, 0, 0, 0, 0, 1, 0],\n",
       " 3: [0, 0, 0, 0, 0, 0, 1, 1],\n",
       " 4: [0, 0, 0, 0, 0, 1, 0, 0],\n",
       " 5: [0, 0, 0, 0, 0, 1, 0, 1],\n",
       " 6: [0, 0, 0, 0, 0, 1, 1, 0],\n",
       " 7: [0, 0, 0, 0, 0, 1, 1, 1],\n",
       " 8: [0, 0, 0, 0, 1, 0, 0, 0],\n",
       " 9: [0, 0, 0, 0, 1, 0, 0, 1],\n",
       " 10: [0, 0, 0, 0, 1, 0, 1, 0],\n",
       " 11: [0, 0, 0, 0, 1, 0, 1, 1],\n",
       " 12: [0, 0, 0, 0, 1, 1, 0, 0],\n",
       " 13: [0, 0, 0, 0, 1, 1, 0, 1],\n",
       " 14: [0, 0, 0, 0, 1, 1, 1, 0],\n",
       " 15: [0, 0, 0, 0, 1, 1, 1, 1],\n",
       " 16: [0, 0, 0, 1, 0, 0, 0, 0],\n",
       " 17: [0, 0, 0, 1, 0, 0, 0, 1],\n",
       " 18: [0, 0, 0, 1, 0, 0, 1, 0],\n",
       " 19: [0, 0, 0, 1, 0, 0, 1, 1],\n",
       " 20: [0, 0, 0, 1, 0, 1, 0, 0],\n",
       " 21: [0, 0, 0, 1, 0, 1, 0, 1],\n",
       " 22: [0, 0, 0, 1, 0, 1, 1, 0],\n",
       " 23: [0, 0, 0, 1, 0, 1, 1, 1],\n",
       " 24: [0, 0, 0, 1, 1, 0, 0, 0],\n",
       " 25: [0, 0, 0, 1, 1, 0, 0, 1],\n",
       " 26: [0, 0, 0, 1, 1, 0, 1, 0],\n",
       " 27: [0, 0, 0, 1, 1, 0, 1, 1],\n",
       " 28: [0, 0, 0, 1, 1, 1, 0, 0],\n",
       " 29: [0, 0, 0, 1, 1, 1, 0, 1],\n",
       " 30: [0, 0, 0, 1, 1, 1, 1, 0],\n",
       " 31: [0, 0, 0, 1, 1, 1, 1, 1],\n",
       " 32: [0, 0, 1, 0, 0, 0, 0, 0],\n",
       " 33: [0, 0, 1, 0, 0, 0, 0, 1],\n",
       " 34: [0, 0, 1, 0, 0, 0, 1, 0],\n",
       " 35: [0, 0, 1, 0, 0, 0, 1, 1],\n",
       " 36: [0, 0, 1, 0, 0, 1, 0, 0],\n",
       " 37: [0, 0, 1, 0, 0, 1, 0, 1],\n",
       " 38: [0, 0, 1, 0, 0, 1, 1, 0],\n",
       " 39: [0, 0, 1, 0, 0, 1, 1, 1],\n",
       " 40: [0, 0, 1, 0, 1, 0, 0, 0],\n",
       " 41: [0, 0, 1, 0, 1, 0, 0, 1],\n",
       " 42: [0, 0, 1, 0, 1, 0, 1, 0],\n",
       " 43: [0, 0, 1, 0, 1, 0, 1, 1],\n",
       " 44: [0, 0, 1, 0, 1, 1, 0, 0],\n",
       " 45: [0, 0, 1, 0, 1, 1, 0, 1],\n",
       " 46: [0, 0, 1, 0, 1, 1, 1, 0],\n",
       " 47: [0, 0, 1, 0, 1, 1, 1, 1],\n",
       " 48: [0, 0, 1, 1, 0, 0, 0, 0],\n",
       " 49: [0, 0, 1, 1, 0, 0, 0, 1],\n",
       " 50: [0, 0, 1, 1, 0, 0, 1, 0],\n",
       " 51: [0, 0, 1, 1, 0, 0, 1, 1],\n",
       " 52: [0, 0, 1, 1, 0, 1, 0, 0],\n",
       " 53: [0, 0, 1, 1, 0, 1, 0, 1],\n",
       " 54: [0, 0, 1, 1, 0, 1, 1, 0],\n",
       " 55: [0, 0, 1, 1, 0, 1, 1, 1],\n",
       " 56: [0, 0, 1, 1, 1, 0, 0, 0],\n",
       " 57: [0, 0, 1, 1, 1, 0, 0, 1],\n",
       " 58: [0, 0, 1, 1, 1, 0, 1, 0],\n",
       " 59: [0, 0, 1, 1, 1, 0, 1, 1],\n",
       " 60: [0, 0, 1, 1, 1, 1, 0, 0],\n",
       " 61: [0, 0, 1, 1, 1, 1, 0, 1],\n",
       " 62: [0, 0, 1, 1, 1, 1, 1, 0],\n",
       " 63: [0, 0, 1, 1, 1, 1, 1, 1],\n",
       " 64: [0, 1, 0, 0, 0, 0, 0, 0],\n",
       " 65: [0, 1, 0, 0, 0, 0, 0, 1],\n",
       " 66: [0, 1, 0, 0, 0, 0, 1, 0],\n",
       " 67: [0, 1, 0, 0, 0, 0, 1, 1],\n",
       " 68: [0, 1, 0, 0, 0, 1, 0, 0],\n",
       " 69: [0, 1, 0, 0, 0, 1, 0, 1],\n",
       " 70: [0, 1, 0, 0, 0, 1, 1, 0],\n",
       " 71: [0, 1, 0, 0, 0, 1, 1, 1],\n",
       " 72: [0, 1, 0, 0, 1, 0, 0, 0],\n",
       " 73: [0, 1, 0, 0, 1, 0, 0, 1],\n",
       " 74: [0, 1, 0, 0, 1, 0, 1, 0],\n",
       " 75: [0, 1, 0, 0, 1, 0, 1, 1],\n",
       " 76: [0, 1, 0, 0, 1, 1, 0, 0],\n",
       " 77: [0, 1, 0, 0, 1, 1, 0, 1],\n",
       " 78: [0, 1, 0, 0, 1, 1, 1, 0],\n",
       " 79: [0, 1, 0, 0, 1, 1, 1, 1],\n",
       " 80: [0, 1, 0, 1, 0, 0, 0, 0],\n",
       " 81: [0, 1, 0, 1, 0, 0, 0, 1],\n",
       " 82: [0, 1, 0, 1, 0, 0, 1, 0],\n",
       " 83: [0, 1, 0, 1, 0, 0, 1, 1],\n",
       " 84: [0, 1, 0, 1, 0, 1, 0, 0],\n",
       " 85: [0, 1, 0, 1, 0, 1, 0, 1],\n",
       " 86: [0, 1, 0, 1, 0, 1, 1, 0],\n",
       " 87: [0, 1, 0, 1, 0, 1, 1, 1],\n",
       " 88: [0, 1, 0, 1, 1, 0, 0, 0],\n",
       " 89: [0, 1, 0, 1, 1, 0, 0, 1],\n",
       " 90: [0, 1, 0, 1, 1, 0, 1, 0],\n",
       " 91: [0, 1, 0, 1, 1, 0, 1, 1],\n",
       " 92: [0, 1, 0, 1, 1, 1, 0, 0],\n",
       " 93: [0, 1, 0, 1, 1, 1, 0, 1],\n",
       " 94: [0, 1, 0, 1, 1, 1, 1, 0],\n",
       " 95: [0, 1, 0, 1, 1, 1, 1, 1],\n",
       " 96: [0, 1, 1, 0, 0, 0, 0, 0],\n",
       " 97: [0, 1, 1, 0, 0, 0, 0, 1],\n",
       " 98: [0, 1, 1, 0, 0, 0, 1, 0],\n",
       " 99: [0, 1, 1, 0, 0, 0, 1, 1],\n",
       " 100: [0, 1, 1, 0, 0, 1, 0, 0],\n",
       " 101: [0, 1, 1, 0, 0, 1, 0, 1],\n",
       " 102: [0, 1, 1, 0, 0, 1, 1, 0],\n",
       " 103: [0, 1, 1, 0, 0, 1, 1, 1],\n",
       " 104: [0, 1, 1, 0, 1, 0, 0, 0],\n",
       " 105: [0, 1, 1, 0, 1, 0, 0, 1],\n",
       " 106: [0, 1, 1, 0, 1, 0, 1, 0],\n",
       " 107: [0, 1, 1, 0, 1, 0, 1, 1],\n",
       " 108: [0, 1, 1, 0, 1, 1, 0, 0],\n",
       " 109: [0, 1, 1, 0, 1, 1, 0, 1],\n",
       " 110: [0, 1, 1, 0, 1, 1, 1, 0],\n",
       " 111: [0, 1, 1, 0, 1, 1, 1, 1],\n",
       " 112: [0, 1, 1, 1, 0, 0, 0, 0],\n",
       " 113: [0, 1, 1, 1, 0, 0, 0, 1],\n",
       " 114: [0, 1, 1, 1, 0, 0, 1, 0],\n",
       " 115: [0, 1, 1, 1, 0, 0, 1, 1],\n",
       " 116: [0, 1, 1, 1, 0, 1, 0, 0],\n",
       " 117: [0, 1, 1, 1, 0, 1, 0, 1],\n",
       " 118: [0, 1, 1, 1, 0, 1, 1, 0],\n",
       " 119: [0, 1, 1, 1, 0, 1, 1, 1],\n",
       " 120: [0, 1, 1, 1, 1, 0, 0, 0],\n",
       " 121: [0, 1, 1, 1, 1, 0, 0, 1],\n",
       " 122: [0, 1, 1, 1, 1, 0, 1, 0],\n",
       " 123: [0, 1, 1, 1, 1, 0, 1, 1],\n",
       " 124: [0, 1, 1, 1, 1, 1, 0, 0],\n",
       " 125: [0, 1, 1, 1, 1, 1, 0, 1],\n",
       " 126: [0, 1, 1, 1, 1, 1, 1, 0],\n",
       " 127: [0, 1, 1, 1, 1, 1, 1, 1],\n",
       " 128: [1, 0, 0, 0, 0, 0, 0, 0],\n",
       " 129: [1, 0, 0, 0, 0, 0, 0, 1],\n",
       " 130: [1, 0, 0, 0, 0, 0, 1, 0],\n",
       " 131: [1, 0, 0, 0, 0, 0, 1, 1],\n",
       " 132: [1, 0, 0, 0, 0, 1, 0, 0],\n",
       " 133: [1, 0, 0, 0, 0, 1, 0, 1],\n",
       " 134: [1, 0, 0, 0, 0, 1, 1, 0],\n",
       " 135: [1, 0, 0, 0, 0, 1, 1, 1],\n",
       " 136: [1, 0, 0, 0, 1, 0, 0, 0],\n",
       " 137: [1, 0, 0, 0, 1, 0, 0, 1],\n",
       " 138: [1, 0, 0, 0, 1, 0, 1, 0],\n",
       " 139: [1, 0, 0, 0, 1, 0, 1, 1],\n",
       " 140: [1, 0, 0, 0, 1, 1, 0, 0],\n",
       " 141: [1, 0, 0, 0, 1, 1, 0, 1],\n",
       " 142: [1, 0, 0, 0, 1, 1, 1, 0],\n",
       " 143: [1, 0, 0, 0, 1, 1, 1, 1],\n",
       " 144: [1, 0, 0, 1, 0, 0, 0, 0],\n",
       " 145: [1, 0, 0, 1, 0, 0, 0, 1],\n",
       " 146: [1, 0, 0, 1, 0, 0, 1, 0],\n",
       " 147: [1, 0, 0, 1, 0, 0, 1, 1],\n",
       " 148: [1, 0, 0, 1, 0, 1, 0, 0],\n",
       " 149: [1, 0, 0, 1, 0, 1, 0, 1],\n",
       " 150: [1, 0, 0, 1, 0, 1, 1, 0],\n",
       " 151: [1, 0, 0, 1, 0, 1, 1, 1],\n",
       " 152: [1, 0, 0, 1, 1, 0, 0, 0],\n",
       " 153: [1, 0, 0, 1, 1, 0, 0, 1],\n",
       " 154: [1, 0, 0, 1, 1, 0, 1, 0],\n",
       " 155: [1, 0, 0, 1, 1, 0, 1, 1],\n",
       " 156: [1, 0, 0, 1, 1, 1, 0, 0],\n",
       " 157: [1, 0, 0, 1, 1, 1, 0, 1],\n",
       " 158: [1, 0, 0, 1, 1, 1, 1, 0],\n",
       " 159: [1, 0, 0, 1, 1, 1, 1, 1],\n",
       " 160: [1, 0, 1, 0, 0, 0, 0, 0],\n",
       " 161: [1, 0, 1, 0, 0, 0, 0, 1],\n",
       " 162: [1, 0, 1, 0, 0, 0, 1, 0],\n",
       " 163: [1, 0, 1, 0, 0, 0, 1, 1],\n",
       " 164: [1, 0, 1, 0, 0, 1, 0, 0],\n",
       " 165: [1, 0, 1, 0, 0, 1, 0, 1],\n",
       " 166: [1, 0, 1, 0, 0, 1, 1, 0],\n",
       " 167: [1, 0, 1, 0, 0, 1, 1, 1],\n",
       " 168: [1, 0, 1, 0, 1, 0, 0, 0],\n",
       " 169: [1, 0, 1, 0, 1, 0, 0, 1],\n",
       " 170: [1, 0, 1, 0, 1, 0, 1, 0],\n",
       " 171: [1, 0, 1, 0, 1, 0, 1, 1],\n",
       " 172: [1, 0, 1, 0, 1, 1, 0, 0],\n",
       " 173: [1, 0, 1, 0, 1, 1, 0, 1],\n",
       " 174: [1, 0, 1, 0, 1, 1, 1, 0],\n",
       " 175: [1, 0, 1, 0, 1, 1, 1, 1],\n",
       " 176: [1, 0, 1, 1, 0, 0, 0, 0],\n",
       " 177: [1, 0, 1, 1, 0, 0, 0, 1],\n",
       " 178: [1, 0, 1, 1, 0, 0, 1, 0],\n",
       " 179: [1, 0, 1, 1, 0, 0, 1, 1],\n",
       " 180: [1, 0, 1, 1, 0, 1, 0, 0],\n",
       " 181: [1, 0, 1, 1, 0, 1, 0, 1],\n",
       " 182: [1, 0, 1, 1, 0, 1, 1, 0],\n",
       " 183: [1, 0, 1, 1, 0, 1, 1, 1],\n",
       " 184: [1, 0, 1, 1, 1, 0, 0, 0],\n",
       " 185: [1, 0, 1, 1, 1, 0, 0, 1],\n",
       " 186: [1, 0, 1, 1, 1, 0, 1, 0],\n",
       " 187: [1, 0, 1, 1, 1, 0, 1, 1],\n",
       " 188: [1, 0, 1, 1, 1, 1, 0, 0],\n",
       " 189: [1, 0, 1, 1, 1, 1, 0, 1],\n",
       " 190: [1, 0, 1, 1, 1, 1, 1, 0],\n",
       " 191: [1, 0, 1, 1, 1, 1, 1, 1],\n",
       " 192: [1, 1, 0, 0, 0, 0, 0, 0],\n",
       " 193: [1, 1, 0, 0, 0, 0, 0, 1],\n",
       " 194: [1, 1, 0, 0, 0, 0, 1, 0],\n",
       " 195: [1, 1, 0, 0, 0, 0, 1, 1],\n",
       " 196: [1, 1, 0, 0, 0, 1, 0, 0],\n",
       " 197: [1, 1, 0, 0, 0, 1, 0, 1],\n",
       " 198: [1, 1, 0, 0, 0, 1, 1, 0],\n",
       " 199: [1, 1, 0, 0, 0, 1, 1, 1],\n",
       " 200: [1, 1, 0, 0, 1, 0, 0, 0],\n",
       " 201: [1, 1, 0, 0, 1, 0, 0, 1],\n",
       " 202: [1, 1, 0, 0, 1, 0, 1, 0],\n",
       " 203: [1, 1, 0, 0, 1, 0, 1, 1],\n",
       " 204: [1, 1, 0, 0, 1, 1, 0, 0],\n",
       " 205: [1, 1, 0, 0, 1, 1, 0, 1],\n",
       " 206: [1, 1, 0, 0, 1, 1, 1, 0],\n",
       " 207: [1, 1, 0, 0, 1, 1, 1, 1],\n",
       " 208: [1, 1, 0, 1, 0, 0, 0, 0],\n",
       " 209: [1, 1, 0, 1, 0, 0, 0, 1],\n",
       " 210: [1, 1, 0, 1, 0, 0, 1, 0],\n",
       " 211: [1, 1, 0, 1, 0, 0, 1, 1],\n",
       " 212: [1, 1, 0, 1, 0, 1, 0, 0],\n",
       " 213: [1, 1, 0, 1, 0, 1, 0, 1],\n",
       " 214: [1, 1, 0, 1, 0, 1, 1, 0],\n",
       " 215: [1, 1, 0, 1, 0, 1, 1, 1],\n",
       " 216: [1, 1, 0, 1, 1, 0, 0, 0],\n",
       " 217: [1, 1, 0, 1, 1, 0, 0, 1],\n",
       " 218: [1, 1, 0, 1, 1, 0, 1, 0],\n",
       " 219: [1, 1, 0, 1, 1, 0, 1, 1],\n",
       " 220: [1, 1, 0, 1, 1, 1, 0, 0],\n",
       " 221: [1, 1, 0, 1, 1, 1, 0, 1],\n",
       " 222: [1, 1, 0, 1, 1, 1, 1, 0],\n",
       " 223: [1, 1, 0, 1, 1, 1, 1, 1],\n",
       " 224: [1, 1, 1, 0, 0, 0, 0, 0],\n",
       " 225: [1, 1, 1, 0, 0, 0, 0, 1],\n",
       " 226: [1, 1, 1, 0, 0, 0, 1, 0],\n",
       " 227: [1, 1, 1, 0, 0, 0, 1, 1],\n",
       " 228: [1, 1, 1, 0, 0, 1, 0, 0],\n",
       " 229: [1, 1, 1, 0, 0, 1, 0, 1],\n",
       " 230: [1, 1, 1, 0, 0, 1, 1, 0],\n",
       " 231: [1, 1, 1, 0, 0, 1, 1, 1],\n",
       " 232: [1, 1, 1, 0, 1, 0, 0, 0],\n",
       " 233: [1, 1, 1, 0, 1, 0, 0, 1],\n",
       " 234: [1, 1, 1, 0, 1, 0, 1, 0],\n",
       " 235: [1, 1, 1, 0, 1, 0, 1, 1],\n",
       " 236: [1, 1, 1, 0, 1, 1, 0, 0],\n",
       " 237: [1, 1, 1, 0, 1, 1, 0, 1],\n",
       " 238: [1, 1, 1, 0, 1, 1, 1, 0],\n",
       " 239: [1, 1, 1, 0, 1, 1, 1, 1],\n",
       " 240: [1, 1, 1, 1, 0, 0, 0, 0],\n",
       " 241: [1, 1, 1, 1, 0, 0, 0, 1],\n",
       " 242: [1, 1, 1, 1, 0, 0, 1, 0],\n",
       " 243: [1, 1, 1, 1, 0, 0, 1, 1],\n",
       " 244: [1, 1, 1, 1, 0, 1, 0, 0],\n",
       " 245: [1, 1, 1, 1, 0, 1, 0, 1],\n",
       " 246: [1, 1, 1, 1, 0, 1, 1, 0],\n",
       " 247: [1, 1, 1, 1, 0, 1, 1, 1],\n",
       " 248: [1, 1, 1, 1, 1, 0, 0, 0],\n",
       " 249: [1, 1, 1, 1, 1, 0, 0, 1],\n",
       " 250: [1, 1, 1, 1, 1, 0, 1, 0],\n",
       " 251: [1, 1, 1, 1, 1, 0, 1, 1],\n",
       " 252: [1, 1, 1, 1, 1, 1, 0, 0],\n",
       " 253: [1, 1, 1, 1, 1, 1, 0, 1],\n",
       " 254: [1, 1, 1, 1, 1, 1, 1, 0],\n",
       " 255: [1, 1, 1, 1, 1, 1, 1, 1]}"
      ]
     },
     "execution_count": 5,
     "metadata": {},
     "output_type": "execute_result"
    }
   ],
   "source": [
    "C"
   ]
  },
  {
   "cell_type": "markdown",
   "metadata": {},
   "source": [
    "## Create a dataframe showing all of the possible attribute vectors, the class labels, and the sampling distribution."
   ]
  },
  {
   "cell_type": "code",
   "execution_count": 6,
   "metadata": {},
   "outputs": [
    {
     "data": {
      "text/html": [
       "<div>\n",
       "<style scoped>\n",
       "    .dataframe tbody tr th:only-of-type {\n",
       "        vertical-align: middle;\n",
       "    }\n",
       "\n",
       "    .dataframe tbody tr th {\n",
       "        vertical-align: top;\n",
       "    }\n",
       "\n",
       "    .dataframe thead th {\n",
       "        text-align: right;\n",
       "    }\n",
       "</style>\n",
       "<table border=\"1\" class=\"dataframe\">\n",
       "  <thead>\n",
       "    <tr style=\"text-align: right;\">\n",
       "      <th></th>\n",
       "      <th>x0</th>\n",
       "      <th>x1</th>\n",
       "      <th>x2</th>\n",
       "      <th>D</th>\n",
       "    </tr>\n",
       "  </thead>\n",
       "  <tbody>\n",
       "    <tr>\n",
       "      <th>0</th>\n",
       "      <td>0</td>\n",
       "      <td>0</td>\n",
       "      <td>0</td>\n",
       "      <td>0.125</td>\n",
       "    </tr>\n",
       "    <tr>\n",
       "      <th>1</th>\n",
       "      <td>0</td>\n",
       "      <td>0</td>\n",
       "      <td>1</td>\n",
       "      <td>0.125</td>\n",
       "    </tr>\n",
       "    <tr>\n",
       "      <th>2</th>\n",
       "      <td>0</td>\n",
       "      <td>1</td>\n",
       "      <td>0</td>\n",
       "      <td>0.125</td>\n",
       "    </tr>\n",
       "    <tr>\n",
       "      <th>3</th>\n",
       "      <td>0</td>\n",
       "      <td>1</td>\n",
       "      <td>1</td>\n",
       "      <td>0.125</td>\n",
       "    </tr>\n",
       "    <tr>\n",
       "      <th>4</th>\n",
       "      <td>1</td>\n",
       "      <td>0</td>\n",
       "      <td>0</td>\n",
       "      <td>0.125</td>\n",
       "    </tr>\n",
       "    <tr>\n",
       "      <th>5</th>\n",
       "      <td>1</td>\n",
       "      <td>0</td>\n",
       "      <td>1</td>\n",
       "      <td>0.125</td>\n",
       "    </tr>\n",
       "    <tr>\n",
       "      <th>6</th>\n",
       "      <td>1</td>\n",
       "      <td>1</td>\n",
       "      <td>0</td>\n",
       "      <td>0.125</td>\n",
       "    </tr>\n",
       "    <tr>\n",
       "      <th>7</th>\n",
       "      <td>1</td>\n",
       "      <td>1</td>\n",
       "      <td>1</td>\n",
       "      <td>0.125</td>\n",
       "    </tr>\n",
       "  </tbody>\n",
       "</table>\n",
       "</div>"
      ],
      "text/plain": [
       "   x0  x1  x2      D\n",
       "0   0   0   0  0.125\n",
       "1   0   0   1  0.125\n",
       "2   0   1   0  0.125\n",
       "3   0   1   1  0.125\n",
       "4   1   0   0  0.125\n",
       "5   1   0   1  0.125\n",
       "6   1   1   0  0.125\n",
       "7   1   1   1  0.125"
      ]
     },
     "execution_count": 6,
     "metadata": {},
     "output_type": "execute_result"
    }
   ],
   "source": [
    "data=pd.DataFrame(A).transpose().rename(columns = {cn: 'x'+str(cn) for cn in range(num_features)})\n",
    "data['D']=D\n",
    "data"
   ]
  },
  {
   "cell_type": "markdown",
   "metadata": {},
   "source": [
    "## Randomly pick a training sample."
   ]
  },
  {
   "cell_type": "code",
   "execution_count": 7,
   "metadata": {},
   "outputs": [
    {
     "data": {
      "text/html": [
       "<div>\n",
       "<style scoped>\n",
       "    .dataframe tbody tr th:only-of-type {\n",
       "        vertical-align: middle;\n",
       "    }\n",
       "\n",
       "    .dataframe tbody tr th {\n",
       "        vertical-align: top;\n",
       "    }\n",
       "\n",
       "    .dataframe thead th {\n",
       "        text-align: right;\n",
       "    }\n",
       "</style>\n",
       "<table border=\"1\" class=\"dataframe\">\n",
       "  <thead>\n",
       "    <tr style=\"text-align: right;\">\n",
       "      <th></th>\n",
       "      <th>x0</th>\n",
       "      <th>x1</th>\n",
       "      <th>x2</th>\n",
       "      <th>D</th>\n",
       "    </tr>\n",
       "  </thead>\n",
       "  <tbody>\n",
       "    <tr>\n",
       "      <th>0</th>\n",
       "      <td>0</td>\n",
       "      <td>0</td>\n",
       "      <td>0</td>\n",
       "      <td>0.125</td>\n",
       "    </tr>\n",
       "    <tr>\n",
       "      <th>4</th>\n",
       "      <td>1</td>\n",
       "      <td>0</td>\n",
       "      <td>0</td>\n",
       "      <td>0.125</td>\n",
       "    </tr>\n",
       "    <tr>\n",
       "      <th>5</th>\n",
       "      <td>1</td>\n",
       "      <td>0</td>\n",
       "      <td>1</td>\n",
       "      <td>0.125</td>\n",
       "    </tr>\n",
       "    <tr>\n",
       "      <th>6</th>\n",
       "      <td>1</td>\n",
       "      <td>1</td>\n",
       "      <td>0</td>\n",
       "      <td>0.125</td>\n",
       "    </tr>\n",
       "    <tr>\n",
       "      <th>7</th>\n",
       "      <td>1</td>\n",
       "      <td>1</td>\n",
       "      <td>1</td>\n",
       "      <td>0.125</td>\n",
       "    </tr>\n",
       "  </tbody>\n",
       "</table>\n",
       "</div>"
      ],
      "text/plain": [
       "   x0  x1  x2      D\n",
       "0   0   0   0  0.125\n",
       "4   1   0   0  0.125\n",
       "5   1   0   1  0.125\n",
       "6   1   1   0  0.125\n",
       "7   1   1   1  0.125"
      ]
     },
     "execution_count": 7,
     "metadata": {},
     "output_type": "execute_result"
    }
   ],
   "source": [
    "train = data.sample(n, weights=D).sort_index()\n",
    "train"
   ]
  },
  {
   "cell_type": "markdown",
   "metadata": {},
   "source": [
    "## Randomly select training labels."
   ]
  },
  {
   "cell_type": "code",
   "execution_count": 8,
   "metadata": {},
   "outputs": [
    {
     "data": {
      "text/html": [
       "<div>\n",
       "<style scoped>\n",
       "    .dataframe tbody tr th:only-of-type {\n",
       "        vertical-align: middle;\n",
       "    }\n",
       "\n",
       "    .dataframe tbody tr th {\n",
       "        vertical-align: top;\n",
       "    }\n",
       "\n",
       "    .dataframe thead th {\n",
       "        text-align: right;\n",
       "    }\n",
       "</style>\n",
       "<table border=\"1\" class=\"dataframe\">\n",
       "  <thead>\n",
       "    <tr style=\"text-align: right;\">\n",
       "      <th></th>\n",
       "      <th>x0</th>\n",
       "      <th>x1</th>\n",
       "      <th>x2</th>\n",
       "      <th>D</th>\n",
       "      <th>labels</th>\n",
       "    </tr>\n",
       "  </thead>\n",
       "  <tbody>\n",
       "    <tr>\n",
       "      <th>0</th>\n",
       "      <td>0</td>\n",
       "      <td>0</td>\n",
       "      <td>0</td>\n",
       "      <td>0.125</td>\n",
       "      <td>0</td>\n",
       "    </tr>\n",
       "    <tr>\n",
       "      <th>4</th>\n",
       "      <td>1</td>\n",
       "      <td>0</td>\n",
       "      <td>0</td>\n",
       "      <td>0.125</td>\n",
       "      <td>1</td>\n",
       "    </tr>\n",
       "    <tr>\n",
       "      <th>5</th>\n",
       "      <td>1</td>\n",
       "      <td>0</td>\n",
       "      <td>1</td>\n",
       "      <td>0.125</td>\n",
       "      <td>0</td>\n",
       "    </tr>\n",
       "    <tr>\n",
       "      <th>6</th>\n",
       "      <td>1</td>\n",
       "      <td>1</td>\n",
       "      <td>0</td>\n",
       "      <td>0.125</td>\n",
       "      <td>1</td>\n",
       "    </tr>\n",
       "    <tr>\n",
       "      <th>7</th>\n",
       "      <td>1</td>\n",
       "      <td>1</td>\n",
       "      <td>1</td>\n",
       "      <td>0.125</td>\n",
       "      <td>0</td>\n",
       "    </tr>\n",
       "  </tbody>\n",
       "</table>\n",
       "</div>"
      ],
      "text/plain": [
       "   x0  x1  x2      D  labels\n",
       "0   0   0   0  0.125       0\n",
       "4   1   0   0  0.125       1\n",
       "5   1   0   1  0.125       0\n",
       "6   1   1   0  0.125       1\n",
       "7   1   1   1  0.125       0"
      ]
     },
     "execution_count": 8,
     "metadata": {},
     "output_type": "execute_result"
    }
   ],
   "source": [
    "train['labels']= np.random.randint(0, 2, len(train))\n",
    "train"
   ]
  },
  {
   "cell_type": "markdown",
   "metadata": {},
   "source": [
    "## What are the possible 'truths' that are consistent with the training labels?"
   ]
  },
  {
   "cell_type": "code",
   "execution_count": 9,
   "metadata": {},
   "outputs": [
    {
     "name": "stdout",
     "output_type": "stream",
     "text": [
      "10 [0, 0, 0, 0, 1, 0, 1, 0]\n",
      "26 [0, 0, 0, 1, 1, 0, 1, 0]\n",
      "42 [0, 0, 1, 0, 1, 0, 1, 0]\n",
      "58 [0, 0, 1, 1, 1, 0, 1, 0]\n",
      "74 [0, 1, 0, 0, 1, 0, 1, 0]\n",
      "90 [0, 1, 0, 1, 1, 0, 1, 0]\n",
      "106 [0, 1, 1, 0, 1, 0, 1, 0]\n",
      "122 [0, 1, 1, 1, 1, 0, 1, 0]\n"
     ]
    }
   ],
   "source": [
    "possible_truths = []\n",
    "possible_truths_indices = []\n",
    "for c in C:\n",
    "    if pd.Series(C[c]).loc[train.index].tolist() == train['labels'].tolist():\n",
    "        print(c, C[c])\n",
    "        possible_truths.append(C[c])\n",
    "        possible_truths_indices.append(c)"
   ]
  },
  {
   "cell_type": "markdown",
   "metadata": {},
   "source": [
    "## If we don't know anything about the problem we're trying to solve, that's equivalent to each of these possible truths being equally likely! Let's compute the off-training set generalization performance for each of these possible truths, and each possible prediction."
   ]
  },
  {
   "cell_type": "code",
   "execution_count": 10,
   "metadata": {},
   "outputs": [
    {
     "data": {
      "text/html": [
       "<div>\n",
       "<style scoped>\n",
       "    .dataframe tbody tr th:only-of-type {\n",
       "        vertical-align: middle;\n",
       "    }\n",
       "\n",
       "    .dataframe tbody tr th {\n",
       "        vertical-align: top;\n",
       "    }\n",
       "\n",
       "    .dataframe thead th {\n",
       "        text-align: right;\n",
       "    }\n",
       "</style>\n",
       "<table border=\"1\" class=\"dataframe\">\n",
       "  <thead>\n",
       "    <tr style=\"text-align: right;\">\n",
       "      <th></th>\n",
       "      <th>x0</th>\n",
       "      <th>x1</th>\n",
       "      <th>x2</th>\n",
       "      <th>D</th>\n",
       "    </tr>\n",
       "  </thead>\n",
       "  <tbody>\n",
       "    <tr>\n",
       "      <th>1</th>\n",
       "      <td>0</td>\n",
       "      <td>0</td>\n",
       "      <td>1</td>\n",
       "      <td>0.125</td>\n",
       "    </tr>\n",
       "    <tr>\n",
       "      <th>2</th>\n",
       "      <td>0</td>\n",
       "      <td>1</td>\n",
       "      <td>0</td>\n",
       "      <td>0.125</td>\n",
       "    </tr>\n",
       "    <tr>\n",
       "      <th>3</th>\n",
       "      <td>0</td>\n",
       "      <td>1</td>\n",
       "      <td>1</td>\n",
       "      <td>0.125</td>\n",
       "    </tr>\n",
       "  </tbody>\n",
       "</table>\n",
       "</div>"
      ],
      "text/plain": [
       "   x0  x1  x2      D\n",
       "1   0   0   1  0.125\n",
       "2   0   1   0  0.125\n",
       "3   0   1   1  0.125"
      ]
     },
     "execution_count": 10,
     "metadata": {},
     "output_type": "execute_result"
    }
   ],
   "source": [
    "off_train = data.drop(train.index)\n",
    "off_train"
   ]
  },
  {
   "cell_type": "code",
   "execution_count": 11,
   "metadata": {},
   "outputs": [],
   "source": [
    "x_cols = [c for c in off_train.columns if re.match('x', c)]"
   ]
  },
  {
   "cell_type": "code",
   "execution_count": 12,
   "metadata": {},
   "outputs": [
    {
     "data": {
      "text/plain": [
       "[[0, 0, 0, 0, 1, 0, 1, 0],\n",
       " [0, 0, 0, 1, 1, 0, 1, 0],\n",
       " [0, 0, 1, 0, 1, 0, 1, 0],\n",
       " [0, 0, 1, 1, 1, 0, 1, 0],\n",
       " [0, 1, 0, 0, 1, 0, 1, 0],\n",
       " [0, 1, 0, 1, 1, 0, 1, 0],\n",
       " [0, 1, 1, 0, 1, 0, 1, 0],\n",
       " [0, 1, 1, 1, 1, 0, 1, 0]]"
      ]
     },
     "execution_count": 12,
     "metadata": {},
     "output_type": "execute_result"
    }
   ],
   "source": [
    "possible_truths"
   ]
  },
  {
   "cell_type": "code",
   "execution_count": 13,
   "metadata": {},
   "outputs": [
    {
     "name": "stdout",
     "output_type": "stream",
     "text": [
      "prediction: [0, 0, 0]\n",
      "\ttruth: [0, 0, 0] , correct: [True, True, True] , GP: [0.5, 0.5, 0.5] , Avg. GP: 0.5\n",
      "\ttruth: [0, 0, 1] , correct: [True, True, False] , GP: [0.5, 0.5, -0.5] , Avg. GP: 0.16666666666666666\n",
      "\ttruth: [0, 1, 0] , correct: [True, False, True] , GP: [0.5, -0.5, 0.5] , Avg. GP: 0.16666666666666666\n",
      "\ttruth: [0, 1, 1] , correct: [True, False, False] , GP: [0.5, -0.5, -0.5] , Avg. GP: -0.16666666666666666\n",
      "\ttruth: [1, 0, 0] , correct: [False, True, True] , GP: [-0.5, 0.5, 0.5] , Avg. GP: 0.16666666666666666\n",
      "\ttruth: [1, 0, 1] , correct: [False, True, False] , GP: [-0.5, 0.5, -0.5] , Avg. GP: -0.16666666666666666\n",
      "\ttruth: [1, 1, 0] , correct: [False, False, True] , GP: [-0.5, -0.5, 0.5] , Avg. GP: -0.16666666666666666\n",
      "\ttruth: [1, 1, 1] , correct: [False, False, False] , GP: [-0.5, -0.5, -0.5] , Avg. GP: -0.5\n",
      "\tOverall average: 0.0\n",
      "prediction: [0, 0, 1]\n",
      "\ttruth: [0, 0, 0] , correct: [True, True, False] , GP: [0.5, 0.5, -0.5] , Avg. GP: 0.16666666666666666\n",
      "\ttruth: [0, 0, 1] , correct: [True, True, True] , GP: [0.5, 0.5, 0.5] , Avg. GP: 0.5\n",
      "\ttruth: [0, 1, 0] , correct: [True, False, False] , GP: [0.5, -0.5, -0.5] , Avg. GP: -0.16666666666666666\n",
      "\ttruth: [0, 1, 1] , correct: [True, False, True] , GP: [0.5, -0.5, 0.5] , Avg. GP: 0.16666666666666666\n",
      "\ttruth: [1, 0, 0] , correct: [False, True, False] , GP: [-0.5, 0.5, -0.5] , Avg. GP: -0.16666666666666666\n",
      "\ttruth: [1, 0, 1] , correct: [False, True, True] , GP: [-0.5, 0.5, 0.5] , Avg. GP: 0.16666666666666666\n",
      "\ttruth: [1, 1, 0] , correct: [False, False, False] , GP: [-0.5, -0.5, -0.5] , Avg. GP: -0.5\n",
      "\ttruth: [1, 1, 1] , correct: [False, False, True] , GP: [-0.5, -0.5, 0.5] , Avg. GP: -0.16666666666666666\n",
      "\tOverall average: -3.469446951953614e-18\n",
      "prediction: [0, 1, 0]\n",
      "\ttruth: [0, 0, 0] , correct: [True, False, True] , GP: [0.5, -0.5, 0.5] , Avg. GP: 0.16666666666666666\n",
      "\ttruth: [0, 0, 1] , correct: [True, False, False] , GP: [0.5, -0.5, -0.5] , Avg. GP: -0.16666666666666666\n",
      "\ttruth: [0, 1, 0] , correct: [True, True, True] , GP: [0.5, 0.5, 0.5] , Avg. GP: 0.5\n",
      "\ttruth: [0, 1, 1] , correct: [True, True, False] , GP: [0.5, 0.5, -0.5] , Avg. GP: 0.16666666666666666\n",
      "\ttruth: [1, 0, 0] , correct: [False, False, True] , GP: [-0.5, -0.5, 0.5] , Avg. GP: -0.16666666666666666\n",
      "\ttruth: [1, 0, 1] , correct: [False, False, False] , GP: [-0.5, -0.5, -0.5] , Avg. GP: -0.5\n",
      "\ttruth: [1, 1, 0] , correct: [False, True, True] , GP: [-0.5, 0.5, 0.5] , Avg. GP: 0.16666666666666666\n",
      "\ttruth: [1, 1, 1] , correct: [False, True, False] , GP: [-0.5, 0.5, -0.5] , Avg. GP: -0.16666666666666666\n",
      "\tOverall average: 0.0\n",
      "prediction: [0, 1, 1]\n",
      "\ttruth: [0, 0, 0] , correct: [True, False, False] , GP: [0.5, -0.5, -0.5] , Avg. GP: -0.16666666666666666\n",
      "\ttruth: [0, 0, 1] , correct: [True, False, True] , GP: [0.5, -0.5, 0.5] , Avg. GP: 0.16666666666666666\n",
      "\ttruth: [0, 1, 0] , correct: [True, True, False] , GP: [0.5, 0.5, -0.5] , Avg. GP: 0.16666666666666666\n",
      "\ttruth: [0, 1, 1] , correct: [True, True, True] , GP: [0.5, 0.5, 0.5] , Avg. GP: 0.5\n",
      "\ttruth: [1, 0, 0] , correct: [False, False, False] , GP: [-0.5, -0.5, -0.5] , Avg. GP: -0.5\n",
      "\ttruth: [1, 0, 1] , correct: [False, False, True] , GP: [-0.5, -0.5, 0.5] , Avg. GP: -0.16666666666666666\n",
      "\ttruth: [1, 1, 0] , correct: [False, True, False] , GP: [-0.5, 0.5, -0.5] , Avg. GP: -0.16666666666666666\n",
      "\ttruth: [1, 1, 1] , correct: [False, True, True] , GP: [-0.5, 0.5, 0.5] , Avg. GP: 0.16666666666666666\n",
      "\tOverall average: -3.469446951953614e-18\n",
      "prediction: [1, 0, 0]\n",
      "\ttruth: [0, 0, 0] , correct: [False, True, True] , GP: [-0.5, 0.5, 0.5] , Avg. GP: 0.16666666666666666\n",
      "\ttruth: [0, 0, 1] , correct: [False, True, False] , GP: [-0.5, 0.5, -0.5] , Avg. GP: -0.16666666666666666\n",
      "\ttruth: [0, 1, 0] , correct: [False, False, True] , GP: [-0.5, -0.5, 0.5] , Avg. GP: -0.16666666666666666\n",
      "\ttruth: [0, 1, 1] , correct: [False, False, False] , GP: [-0.5, -0.5, -0.5] , Avg. GP: -0.5\n",
      "\ttruth: [1, 0, 0] , correct: [True, True, True] , GP: [0.5, 0.5, 0.5] , Avg. GP: 0.5\n",
      "\ttruth: [1, 0, 1] , correct: [True, True, False] , GP: [0.5, 0.5, -0.5] , Avg. GP: 0.16666666666666666\n",
      "\ttruth: [1, 1, 0] , correct: [True, False, True] , GP: [0.5, -0.5, 0.5] , Avg. GP: 0.16666666666666666\n",
      "\ttruth: [1, 1, 1] , correct: [True, False, False] , GP: [0.5, -0.5, -0.5] , Avg. GP: -0.16666666666666666\n",
      "\tOverall average: 3.469446951953614e-18\n",
      "prediction: [1, 0, 1]\n",
      "\ttruth: [0, 0, 0] , correct: [False, True, False] , GP: [-0.5, 0.5, -0.5] , Avg. GP: -0.16666666666666666\n",
      "\ttruth: [0, 0, 1] , correct: [False, True, True] , GP: [-0.5, 0.5, 0.5] , Avg. GP: 0.16666666666666666\n",
      "\ttruth: [0, 1, 0] , correct: [False, False, False] , GP: [-0.5, -0.5, -0.5] , Avg. GP: -0.5\n",
      "\ttruth: [0, 1, 1] , correct: [False, False, True] , GP: [-0.5, -0.5, 0.5] , Avg. GP: -0.16666666666666666\n",
      "\ttruth: [1, 0, 0] , correct: [True, True, False] , GP: [0.5, 0.5, -0.5] , Avg. GP: 0.16666666666666666\n",
      "\ttruth: [1, 0, 1] , correct: [True, True, True] , GP: [0.5, 0.5, 0.5] , Avg. GP: 0.5\n",
      "\ttruth: [1, 1, 0] , correct: [True, False, False] , GP: [0.5, -0.5, -0.5] , Avg. GP: -0.16666666666666666\n",
      "\ttruth: [1, 1, 1] , correct: [True, False, True] , GP: [0.5, -0.5, 0.5] , Avg. GP: 0.16666666666666666\n",
      "\tOverall average: 0.0\n",
      "prediction: [1, 1, 0]\n",
      "\ttruth: [0, 0, 0] , correct: [False, False, True] , GP: [-0.5, -0.5, 0.5] , Avg. GP: -0.16666666666666666\n",
      "\ttruth: [0, 0, 1] , correct: [False, False, False] , GP: [-0.5, -0.5, -0.5] , Avg. GP: -0.5\n",
      "\ttruth: [0, 1, 0] , correct: [False, True, True] , GP: [-0.5, 0.5, 0.5] , Avg. GP: 0.16666666666666666\n",
      "\ttruth: [0, 1, 1] , correct: [False, True, False] , GP: [-0.5, 0.5, -0.5] , Avg. GP: -0.16666666666666666\n",
      "\ttruth: [1, 0, 0] , correct: [True, False, True] , GP: [0.5, -0.5, 0.5] , Avg. GP: 0.16666666666666666\n",
      "\ttruth: [1, 0, 1] , correct: [True, False, False] , GP: [0.5, -0.5, -0.5] , Avg. GP: -0.16666666666666666\n",
      "\ttruth: [1, 1, 0] , correct: [True, True, True] , GP: [0.5, 0.5, 0.5] , Avg. GP: 0.5\n",
      "\ttruth: [1, 1, 1] , correct: [True, True, False] , GP: [0.5, 0.5, -0.5] , Avg. GP: 0.16666666666666666\n",
      "\tOverall average: 3.469446951953614e-18\n",
      "prediction: [1, 1, 1]\n",
      "\ttruth: [0, 0, 0] , correct: [False, False, False] , GP: [-0.5, -0.5, -0.5] , Avg. GP: -0.5\n",
      "\ttruth: [0, 0, 1] , correct: [False, False, True] , GP: [-0.5, -0.5, 0.5] , Avg. GP: -0.16666666666666666\n",
      "\ttruth: [0, 1, 0] , correct: [False, True, False] , GP: [-0.5, 0.5, -0.5] , Avg. GP: -0.16666666666666666\n",
      "\ttruth: [0, 1, 1] , correct: [False, True, True] , GP: [-0.5, 0.5, 0.5] , Avg. GP: 0.16666666666666666\n",
      "\ttruth: [1, 0, 0] , correct: [True, False, False] , GP: [0.5, -0.5, -0.5] , Avg. GP: -0.16666666666666666\n",
      "\ttruth: [1, 0, 1] , correct: [True, False, True] , GP: [0.5, -0.5, 0.5] , Avg. GP: 0.16666666666666666\n",
      "\ttruth: [1, 1, 0] , correct: [True, True, False] , GP: [0.5, 0.5, -0.5] , Avg. GP: 0.16666666666666666\n",
      "\ttruth: [1, 1, 1] , correct: [True, True, True] , GP: [0.5, 0.5, 0.5] , Avg. GP: 0.5\n",
      "\tOverall average: 0.0\n"
     ]
    }
   ],
   "source": [
    "for pred in possible_truths:\n",
    "    off_train_pred = [pred[i] for i in off_train.index]\n",
    "    weights = data['D'].loc[off_train.index].astype(float).tolist()\n",
    "    print(\"prediction:\", off_train_pred)\n",
    "    averages = []\n",
    "    for truth in possible_truths:\n",
    "        off_train_truth = [truth[i] for i in off_train.index]\n",
    "        correct = ([i == j for i, j in zip(off_train_truth, off_train_pred)])\n",
    "        generalized_performance = [float(c) - 0.5 for c in correct]\n",
    "        average = sum(generalized_performance)/len(generalized_performance)\n",
    "        print(\"\\ttruth:\", off_train_truth, \", correct:\", correct, \", GP:\", generalized_performance, \", Avg. GP:\", average)\n",
    "        averages.append(average)\n",
    "    print(\"\\tOverall average:\", sum(averages)/len(averages))"
   ]
  },
  {
   "cell_type": "markdown",
   "metadata": {},
   "source": [
    "## Implication"
   ]
  },
  {
   "cell_type": "markdown",
   "metadata": {},
   "source": [
    "<img src=\"files/possible_impossible.jpeg\">"
   ]
  },
  {
   "cell_type": "markdown",
   "metadata": {},
   "source": [
    "## (Top row is possible, bottom rows are impossible.)"
   ]
  },
  {
   "cell_type": "markdown",
   "metadata": {},
   "source": [
    "# \"In short, empirical success in generalization is always due to problem selection. Although it is tempting to interpret such success as evidence in favour of a learner, it rather shows that the learner has been well applied.\""
   ]
  },
  {
   "cell_type": "code",
   "execution_count": null,
   "metadata": {},
   "outputs": [],
   "source": []
  }
 ],
 "metadata": {
  "kernelspec": {
   "display_name": "Python 3",
   "language": "python",
   "name": "python3"
  },
  "language_info": {
   "codemirror_mode": {
    "name": "ipython",
    "version": 3
   },
   "file_extension": ".py",
   "mimetype": "text/x-python",
   "name": "python",
   "nbconvert_exporter": "python",
   "pygments_lexer": "ipython3",
   "version": "3.6.8"
  }
 },
 "nbformat": 4,
 "nbformat_minor": 2
}
